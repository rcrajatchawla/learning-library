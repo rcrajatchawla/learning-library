{
 "cells": [
  {
   "cell_type": "markdown",
   "id": "d3f23e6b",
   "metadata": {},
   "source": [
    "### OCI Data Science - Useful Tips\n",
    "<details>\n",
    "<summary><font size=\"2\">Check for Public Internet Access</font></summary>\n",
    "\n",
    "```python\n",
    "import requests\n",
    "response = requests.get(\"https://oracle.com\")\n",
    "assert response.status_code==200, \"Internet connection failed\"\n",
    "```\n",
    "</details>\n",
    "<details>\n",
    "<summary><font size=\"2\">Helpful Documentation </font></summary>\n",
    "<ul><li><a href=\"https://docs.cloud.oracle.com/en-us/iaas/data-science/using/data-science.htm\">Data Science Service Documentation</a></li>\n",
    "<li><a href=\"https://docs.cloud.oracle.com/iaas/tools/ads-sdk/latest/index.html\">ADS documentation</a></li>\n",
    "</ul>\n",
    "</details>\n",
    "<details>\n",
    "<summary><font size=\"2\">Typical Cell Imports and Settings for ADS</font></summary>\n",
    "\n",
    "```python\n",
    "%load_ext autoreload\n",
    "%autoreload 2\n",
    "%matplotlib inline\n",
    "\n",
    "import warnings\n",
    "warnings.filterwarnings('ignore')\n",
    "\n",
    "import logging\n",
    "logging.basicConfig(format='%(levelname)s:%(message)s', level=logging.ERROR)\n",
    "\n",
    "import ads\n",
    "from ads.dataset.factory import DatasetFactory\n",
    "from ads.automl.provider import OracleAutoMLProvider\n",
    "from ads.automl.driver import AutoML\n",
    "from ads.evaluations.evaluator import ADSEvaluator\n",
    "from ads.common.data import ADSData\n",
    "from ads.explanations.explainer import ADSExplainer\n",
    "from ads.explanations.mlx_global_explainer import MLXGlobalExplainer\n",
    "from ads.explanations.mlx_local_explainer import MLXLocalExplainer\n",
    "from ads.catalog.model import ModelCatalog\n",
    "from ads.common.model_artifact import ModelArtifact\n",
    "```\n",
    "</details>\n",
    "<details>\n",
    "<summary><font size=\"2\">Useful Environment Variables</font></summary>\n",
    "\n",
    "```python\n",
    "import os\n",
    "print(os.environ[\"NB_SESSION_COMPARTMENT_OCID\"])\n",
    "print(os.environ[\"PROJECT_OCID\"])\n",
    "print(os.environ[\"USER_OCID\"])\n",
    "print(os.environ[\"TENANCY_OCID\"])\n",
    "print(os.environ[\"NB_REGION\"])\n",
    "```\n",
    "</details>"
   ]
  },
  {
   "cell_type": "markdown",
   "id": "bcb56727",
   "metadata": {},
   "source": [
    "# NER Batch Notebook\n",
    "This notebook shows you how you can use the batch APIs to more efficiently process large amounts of records\n"
   ]
  },
  {
   "cell_type": "markdown",
   "id": "49720175",
   "metadata": {},
   "source": [
    "## Setup\n",
    "Install the necessary libraries, note that you need OCI version 2.57.0 or higher to use the batch APIs"
   ]
  },
  {
   "cell_type": "code",
   "execution_count": null,
   "id": "66f63bff",
   "metadata": {},
   "outputs": [],
   "source": [
    "!pip install pandas\n",
    "!pip install ipymarkup\n",
    "!pip install matplotlib\n",
    "!pip install oci==2.57.0"
   ]
  },
  {
   "cell_type": "code",
   "execution_count": 68,
   "id": "1c11f532",
   "metadata": {},
   "outputs": [],
   "source": [
    "import oci\n",
    "import pandas as pd\n",
    "from ipymarkup import show_ascii_markup\n",
    "from ipymarkup import show_box_markup\n",
    "from matplotlib import pyplot as plt"
   ]
  },
  {
   "cell_type": "code",
   "execution_count": 69,
   "id": "d4204e04",
   "metadata": {},
   "outputs": [
    {
     "name": "stdout",
     "output_type": "stream",
     "text": [
      "2.57.0\n"
     ]
    }
   ],
   "source": [
    "print(oci.__version__)"
   ]
  },
  {
   "cell_type": "markdown",
   "id": "7978acde",
   "metadata": {},
   "source": [
    "## Initialize the language service client and read the data to process"
   ]
  },
  {
   "cell_type": "code",
   "execution_count": 4,
   "id": "3ae42461",
   "metadata": {},
   "outputs": [],
   "source": [
    "# Create Language service client with user config default values.\n",
    "ai_client = oci.ai_language.AIServiceLanguageClient(oci.config.from_file())"
   ]
  },
  {
   "cell_type": "code",
   "execution_count": 55,
   "id": "0cd452d3",
   "metadata": {},
   "outputs": [],
   "source": [
    "Data = pd.read_csv('Data.csv')\n",
    "Data = Data[['Reviews','reviews.date']].reset_index()\n",
    "Data['Entities'] = \"\""
   ]
  },
  {
   "cell_type": "code",
   "execution_count": 56,
   "id": "0bbf4bae",
   "metadata": {},
   "outputs": [
    {
     "data": {
      "text/html": [
       "<div>\n",
       "<style scoped>\n",
       "    .dataframe tbody tr th:only-of-type {\n",
       "        vertical-align: middle;\n",
       "    }\n",
       "\n",
       "    .dataframe tbody tr th {\n",
       "        vertical-align: top;\n",
       "    }\n",
       "\n",
       "    .dataframe thead th {\n",
       "        text-align: right;\n",
       "    }\n",
       "</style>\n",
       "<table border=\"1\" class=\"dataframe\">\n",
       "  <thead>\n",
       "    <tr style=\"text-align: right;\">\n",
       "      <th></th>\n",
       "      <th>index</th>\n",
       "      <th>Reviews</th>\n",
       "      <th>reviews.date</th>\n",
       "      <th>Entities</th>\n",
       "    </tr>\n",
       "  </thead>\n",
       "  <tbody>\n",
       "    <tr>\n",
       "      <th>0</th>\n",
       "      <td>0</td>\n",
       "      <td>The water is very hot and there's no cold wate...</td>\n",
       "      <td>29/06/15</td>\n",
       "      <td></td>\n",
       "    </tr>\n",
       "    <tr>\n",
       "      <th>1</th>\n",
       "      <td>1</td>\n",
       "      <td>Great staff and rooms. Housekeeping was always...</td>\n",
       "      <td>05/09/18</td>\n",
       "      <td></td>\n",
       "    </tr>\n",
       "    <tr>\n",
       "      <th>2</th>\n",
       "      <td>2</td>\n",
       "      <td>This Hotel, formerly a prestigious bank, may b...</td>\n",
       "      <td>07/11/16</td>\n",
       "      <td></td>\n",
       "    </tr>\n",
       "    <tr>\n",
       "      <th>3</th>\n",
       "      <td>3</td>\n",
       "      <td>Very accommodating staff. Competitive pricing ...</td>\n",
       "      <td>02/07/16</td>\n",
       "      <td></td>\n",
       "    </tr>\n",
       "    <tr>\n",
       "      <th>4</th>\n",
       "      <td>4</td>\n",
       "      <td>Room was much larger than I expected, and wate...</td>\n",
       "      <td>03/10/17</td>\n",
       "      <td></td>\n",
       "    </tr>\n",
       "  </tbody>\n",
       "</table>\n",
       "</div>"
      ],
      "text/plain": [
       "   index                                            Reviews reviews.date  \\\n",
       "0      0  The water is very hot and there's no cold wate...     29/06/15   \n",
       "1      1  Great staff and rooms. Housekeeping was always...     05/09/18   \n",
       "2      2  This Hotel, formerly a prestigious bank, may b...     07/11/16   \n",
       "3      3  Very accommodating staff. Competitive pricing ...     02/07/16   \n",
       "4      4  Room was much larger than I expected, and wate...     03/10/17   \n",
       "\n",
       "  Entities  \n",
       "0           \n",
       "1           \n",
       "2           \n",
       "3           \n",
       "4           "
      ]
     },
     "execution_count": 56,
     "metadata": {},
     "output_type": "execute_result"
    }
   ],
   "source": [
    "#View 5 Data Points\n",
    "Data.head(5)"
   ]
  },
  {
   "cell_type": "markdown",
   "id": "c0ad28dd",
   "metadata": {},
   "source": [
    "## Batching APIs allow you to send several documents at once to the service\n",
    "\n",
    "### Example:\n",
    "```python\n",
    "doc1 = oci.ai_language.models.DominantLanguageDocument(key=\"doc1\", text=\"The Indy Autonomous Challenge is the worlds first head-to-head, high speed autonomous race taking place at the Indianapolis Motor Speedway\")\n",
    "doc2 = oci.ai_language.models.DominantLanguageDocument(key=\"doc2\", text=\"Using high-performance GPU systems in the Oracle Cloud, OCI will be the cloud engine for the artificial intelligence models that drive the MIT Driverless cars competing in the Indy Autonomous Challenge.\")\n",
    "documents = [doc1, doc2]\n",
    "\n",
    "batch_detect_dominant_language_details = oci.ai_language.models.BatchDetectDominantLanguageDetails(documents=documents)\n",
    "output = ai_client.batch_detect_dominant_language(batch_detect_dominant_language_details)\n",
    "print(output.data)\n",
    "```"
   ]
  },
  {
   "cell_type": "markdown",
   "id": "d7340013",
   "metadata": {},
   "source": [
    "### Fill_Entitiy Mehod\n",
    "\n",
    "This method uses the batching capability of OCI Language to efficiently get entities for all the records.\n",
    "While it is a bit more complicated than calling the single record API, it is much more efficient than sending one record at a time, and the operation completes much faster.\n",
    "\n",
    "The following steps take place in that method.\n",
    "1. It computes the maximum number of records for each batch, and generates a list of batches\n",
    "2. It send the batches to be scored to OCI Language\n",
    "3. For each record, it writes the information back in the data frame, in the Entities column."
   ]
  },
  {
   "cell_type": "code",
   "execution_count": 37,
   "id": "6d9987dc",
   "metadata": {},
   "outputs": [],
   "source": [
    "def fill_entity(Data):\n",
    "    #Detect NER\n",
    "    data_with_result=[]\n",
    "    documents=[]\n",
    "\n",
    "    # Group the data into batches that take into consideration batch API limitations\n",
    "    batches=[]\n",
    "    counter = 0\n",
    "    batchcounter = 0\n",
    "    char_counter = 0\n",
    "    max_batch_chars = 20000\n",
    "    max_batch_record = 100\n",
    "\n",
    "    #todo: check for records that are bigger than the max record size    \n",
    "    for idx in range(Data['Reviews'].size):\n",
    "            record = oci.ai_language.models.EntityDocument(text=Data['Reviews'][idx], key = str(idx), language_code=\"en\")\n",
    "            record_chars = len(record.text)        \n",
    "\n",
    "            if (len(documents) > max_batch_record or (char_counter + record_chars) > max_batch_chars): \n",
    "                # time to create a new batch\n",
    "                batches.append(documents)\n",
    "                documents = []\n",
    "                char_counter = 0           \n",
    "            # write the record to the batch\n",
    "            documents.append(record)      \n",
    "            char_counter = char_counter + record_chars\n",
    "            counter = counter + 1\n",
    "\n",
    "    # flush the last batch\n",
    "    if len(documents) > 0 :\n",
    "        batches.append(documents)\n",
    "        \n",
    "    # get sentiment for each of the batches\n",
    "    entities_list = []\n",
    "    \n",
    "    for i in range(len(batches)):        \n",
    "        aspect_entities_details = oci.ai_language.models.BatchDetectLanguageEntitiesDetails(documents=batches[i])\n",
    "        output = ai_client.batch_detect_language_entities(aspect_entities_details)\n",
    "        entities_list = entities_list + output.data.documents\n",
    "        print (str(len(entities_list)) + \" records processed so far.\")\n",
    "    \n",
    "    # now write the aspects back to the data-frame    \n",
    "    for i in range(len(entities_list)):  \n",
    "        Data.iat[int(entities_list[i].key), Data.columns.get_loc(\"Entities\")] = entities_list[i].entities\n",
    "        \n",
    "    return \n"
   ]
  },
  {
   "cell_type": "code",
   "execution_count": null,
   "id": "281a2896",
   "metadata": {},
   "outputs": [],
   "source": [
    "MyData = fill_entity(Data)"
   ]
  },
  {
   "cell_type": "code",
   "execution_count": 60,
   "id": "5d370f8c",
   "metadata": {},
   "outputs": [
    {
     "data": {
      "text/html": [
       "<div>\n",
       "<style scoped>\n",
       "    .dataframe tbody tr th:only-of-type {\n",
       "        vertical-align: middle;\n",
       "    }\n",
       "\n",
       "    .dataframe tbody tr th {\n",
       "        vertical-align: top;\n",
       "    }\n",
       "\n",
       "    .dataframe thead th {\n",
       "        text-align: right;\n",
       "    }\n",
       "</style>\n",
       "<table border=\"1\" class=\"dataframe\">\n",
       "  <thead>\n",
       "    <tr style=\"text-align: right;\">\n",
       "      <th></th>\n",
       "      <th>index</th>\n",
       "      <th>Reviews</th>\n",
       "      <th>reviews.date</th>\n",
       "      <th>Entities</th>\n",
       "    </tr>\n",
       "  </thead>\n",
       "  <tbody>\n",
       "    <tr>\n",
       "      <th>0</th>\n",
       "      <td>0</td>\n",
       "      <td>The water is very hot and there's no cold wate...</td>\n",
       "      <td>29/06/15</td>\n",
       "      <td>[{\\n  \"length\": 3,\\n  \"offset\": 198,\\n  \"score...</td>\n",
       "    </tr>\n",
       "  </tbody>\n",
       "</table>\n",
       "</div>"
      ],
      "text/plain": [
       "   index                                            Reviews reviews.date  \\\n",
       "0      0  The water is very hot and there's no cold wate...     29/06/15   \n",
       "\n",
       "                                            Entities  \n",
       "0  [{\\n  \"length\": 3,\\n  \"offset\": 198,\\n  \"score...  "
      ]
     },
     "execution_count": 60,
     "metadata": {},
     "output_type": "execute_result"
    }
   ],
   "source": [
    "# Let's see what one record looks like now.\n",
    "Data.head(1)"
   ]
  },
  {
   "cell_type": "markdown",
   "id": "dfb60579",
   "metadata": {},
   "source": [
    "## Visualize the Results"
   ]
  },
  {
   "cell_type": "code",
   "execution_count": 61,
   "id": "ddaae09c",
   "metadata": {},
   "outputs": [
    {
     "data": {
      "text/html": [
       "<div class=\"tex2jax_ignore\" style=\"white-space: pre-wrap\">The water is very hot and there&#x27;s no cold water at all... It&#x27;s awful.. The food is not good.. The staff is friendly and very nice.. More upscale items should be offered for the price of the room at <span style=\"padding: 2px; border-radius: 4px; border: 1px solid #ffcdd2; background: #ffebee\">200<span style=\"vertical-align: middle; margin-left: 2px; font-size: 0.7em; color: #e57373;\">QUANTITY</span></span>. <span style=\"padding: 2px; border-radius: 4px; border: 1px solid #d7ccc8; background: #efebe9\">A night<span style=\"vertical-align: middle; margin-left: 2px; font-size: 0.7em; color: #a1887f;\">DATETIME</span></span>! <span style=\"padding: 2px; border-radius: 4px; border: 1px solid #ffcdd2; background: #ffebee\">Snacks<span style=\"vertical-align: middle; margin-left: 2px; font-size: 0.7em; color: #e57373;\">PRODUCT</span></span>, <span style=\"padding: 2px; border-radius: 4px; border: 1px solid #ffcdd2; background: #ffebee\">toiletries<span style=\"vertical-align: middle; margin-left: 2px; font-size: 0.7em; color: #e57373;\">PRODUCT</span></span>, <span style=\"padding: 2px; border-radius: 4px; border: 1px solid #ffcdd2; background: #ffebee\">menus<span style=\"vertical-align: middle; margin-left: 2px; font-size: 0.7em; color: #e57373;\">PRODUCT</span></span> and food and <span style=\"padding: 2px; border-radius: 4px; border: 1px solid #ffcdd2; background: #ffebee\">drinks<span style=\"vertical-align: middle; margin-left: 2px; font-size: 0.7em; color: #e57373;\">PRODUCT</span></span> offered.. Promote your business... I&#x27;m sorry to hear we didn&#x27;t exceed your expectations but thank you for bringing these issues to our attention. We take your feedback seriously and will share it with the staff. I hope we&#x27;ll get another opportunity to make a better impression when you return to <span style=\"padding: 2px; border-radius: 4px; border: 1px solid #d7ccc8; background: #efebe9\">New Orleans<span style=\"vertical-align: middle; margin-left: 2px; font-size: 0.7em; color: #a1887f;\">LOCATION</span></span>. Feel free to contact me if you would like to discuss your stay further. Sincerely, <span style=\"padding: 2px; border-radius: 4px; border: 1px solid #bbdefb; background: #e3f2fd\">Casey A. CallaisGeneral<span style=\"vertical-align: middle; margin-left: 2px; font-size: 0.7em; color: #64b5f6;\">PERSON</span></span> Manager</div>"
      ],
      "text/plain": [
       "<IPython.core.display.HTML object>"
      ]
     },
     "metadata": {},
     "output_type": "display_data"
    },
    {
     "name": "stdout",
     "output_type": "stream",
     "text": [
      "\n"
     ]
    },
    {
     "data": {
      "text/html": [
       "<div class=\"tex2jax_ignore\" style=\"white-space: pre-wrap\">Great staff and rooms. Housekeeping was always spot on--we never saw them come in, and it was in perfect order when we came back to our rooms. The hotel is close to everything, <span style=\"padding: 2px; border-radius: 4px; border: 1px solid #d7ccc8; background: #efebe9\">French Quarter<span style=\"vertical-align: middle; margin-left: 2px; font-size: 0.7em; color: #a1887f;\">LOCATION</span></span>, museums, <span style=\"padding: 2px; border-radius: 4px; border: 1px solid #d7ccc8; background: #efebe9\">business<span style=\"vertical-align: middle; margin-left: 2px; font-size: 0.7em; color: #a1887f;\">LOCATION</span></span> district, etc. And we got a GREAT price for our stay. It&#x27;s an excellent value--highly recommend to anyone visiting <span style=\"padding: 2px; border-radius: 4px; border: 1px solid #d7ccc8; background: #efebe9\">New Orleans<span style=\"vertical-align: middle; margin-left: 2px; font-size: 0.7em; color: #a1887f;\">LOCATION</span></span>!</div>"
      ],
      "text/plain": [
       "<IPython.core.display.HTML object>"
      ]
     },
     "metadata": {},
     "output_type": "display_data"
    },
    {
     "name": "stdout",
     "output_type": "stream",
     "text": [
      "\n"
     ]
    },
    {
     "data": {
      "text/html": [
       "<div class=\"tex2jax_ignore\" style=\"white-space: pre-wrap\">This <span style=\"padding: 2px; border-radius: 4px; border: 1px solid #d7ccc8; background: #efebe9\">Hotel<span style=\"vertical-align: middle; margin-left: 2px; font-size: 0.7em; color: #a1887f;\">LOCATION</span></span>, formerly a prestigious bank, may be attractive for history buffs, but is an expensive and horrible place to stay when you visit <span style=\"padding: 2px; border-radius: 4px; border: 1px solid #d7ccc8; background: #efebe9\">New Orleans<span style=\"vertical-align: middle; margin-left: 2px; font-size: 0.7em; color: #a1887f;\">LOCATION</span></span>. The rooms are SMALL, unattractive, with terrible old <span style=\"padding: 2px; border-radius: 4px; border: 1px solid #ffcdd2; background: #ffebee\">bedding<span style=\"vertical-align: middle; margin-left: 2px; font-size: 0.7em; color: #e57373;\">PRODUCT</span></span>, virtually without <span style=\"padding: 2px; border-radius: 4px; border: 1px solid #ffcdd2; background: #ffebee\">windows<span style=\"vertical-align: middle; margin-left: 2px; font-size: 0.7em; color: #e57373;\">PRODUCT</span></span> or amenities. Parking was <span style=\"padding: 2px; border-radius: 4px; border: 1px solid #d7ccc8; background: #efebe9\">38/day<span style=\"vertical-align: middle; margin-left: 2px; font-size: 0.7em; color: #a1887f;\">DATETIME</span></span>, and it took <span style=\"padding: 2px; border-radius: 4px; border: 1px solid #d7ccc8; background: #efebe9\">35 min<span style=\"vertical-align: middle; margin-left: 2px; font-size: 0.7em; color: #a1887f;\">DATETIME</span></span>. to get your <span style=\"padding: 2px; border-radius: 4px; border: 1px solid #ffcdd2; background: #ffebee\">vehicle<span style=\"vertical-align: middle; margin-left: 2px; font-size: 0.7em; color: #e57373;\">PRODUCT</span></span>. Almost no <span style=\"padding: 2px; border-radius: 4px; border: 1px solid #d7ccc8; background: #efebe9\">lobby<span style=\"vertical-align: middle; margin-left: 2px; font-size: 0.7em; color: #a1887f;\">LOCATION</span></span> or sitting area, the <span style=\"padding: 2px; border-radius: 4px; border: 1px solid #d7ccc8; background: #efebe9\">restaurant<span style=\"vertical-align: middle; margin-left: 2px; font-size: 0.7em; color: #a1887f;\">LOCATION</span></span> was small, understaffed, with a severely limited menu. The <span style=\"padding: 2px; border-radius: 4px; border: 1px solid #ffcdd2; background: #ffebee\">commode<span style=\"vertical-align: middle; margin-left: 2px; font-size: 0.7em; color: #e57373;\">PRODUCT</span></span> was crammed into a tiny bathroom, and we had to call down to get them to bring up an old beat-up <span style=\"padding: 2px; border-radius: 4px; border: 1px solid #ffcdd2; background: #ffebee\">refrigerator<span style=\"vertical-align: middle; margin-left: 2px; font-size: 0.7em; color: #e57373;\">PRODUCT</span></span>. There are SO Many other more attractive places to stay in <span style=\"padding: 2px; border-radius: 4px; border: 1px solid #d7ccc8; background: #efebe9\">New Orleans<span style=\"vertical-align: middle; margin-left: 2px; font-size: 0.7em; color: #a1887f;\">LOCATION</span></span>, less expensive, I would avoid this place like the plague.Thank you for your review. I&#x27;m sorry to hear that we did not exceed your expectations but we&#x27;ll use this information to provide better services in the future. Thank you for giving us the opportunity to hear about your visit. Sincerely,Casey A. CallaisGeneral Manager</div>"
      ],
      "text/plain": [
       "<IPython.core.display.HTML object>"
      ]
     },
     "metadata": {},
     "output_type": "display_data"
    },
    {
     "name": "stdout",
     "output_type": "stream",
     "text": [
      "\n"
     ]
    },
    {
     "data": {
      "text/html": [
       "<div class=\"tex2jax_ignore\" style=\"white-space: pre-wrap\">Very accommodating staff. Competitive pricing for downtown <span style=\"padding: 2px; border-radius: 4px; border: 1px solid #d7ccc8; background: #efebe9\">N.O<span style=\"vertical-align: middle; margin-left: 2px; font-size: 0.7em; color: #a1887f;\">LOCATION</span></span>. convenient location. Comfortable room. Good food in <span style=\"padding: 2px; border-radius: 4px; border: 1px solid #d7ccc8; background: #efebe9\">restaurant<span style=\"vertical-align: middle; margin-left: 2px; font-size: 0.7em; color: #a1887f;\">LOCATION</span></span>. <span style=\"padding: 2px; border-radius: 4px; border: 1px solid #ffcdd2; background: #ffebee\">Broken<span style=\"vertical-align: middle; margin-left: 2px; font-size: 0.7em; color: #e57373;\">PRODUCT</span></span> exercise equipment. &#x27;fitness club&#x27; is a <span style=\"padding: 2px; border-radius: 4px; border: 1px solid #ffcdd2; background: #ffebee\">bit<span style=\"vertical-align: middle; margin-left: 2px; font-size: 0.7em; color: #e57373;\">QUANTITY</span></span> of a misnomer. We can recommend this to anyone else for a good place to stay with great location for many attractions.Thank you very much for your comments about your most recent stay with us at the <span style=\"padding: 2px; border-radius: 4px; border: 1px solid #d7ccc8; background: #efebe9\">Whitney Hotel<span style=\"vertical-align: middle; margin-left: 2px; font-size: 0.7em; color: #a1887f;\">LOCATION</span></span>! We are working on getting updated <span style=\"padding: 2px; border-radius: 4px; border: 1px solid #ffcdd2; background: #ffebee\">exercise equipment<span style=\"vertical-align: middle; margin-left: 2px; font-size: 0.7em; color: #e57373;\">PRODUCT</span></span> and I&#x27;m sorry it wasn&#x27;t ready for you by the time you arrived. I am happy to hear that you had such an enjoyable stay overall and we hope to see you again the next time you come to <span style=\"padding: 2px; border-radius: 4px; border: 1px solid #d7ccc8; background: #efebe9\">New Orleans!Sincerely<span style=\"vertical-align: middle; margin-left: 2px; font-size: 0.7em; color: #a1887f;\">LOCATION</span></span>, <span style=\"padding: 2px; border-radius: 4px; border: 1px solid #bbdefb; background: #e3f2fd\">Casey A. CallaisGeneral<span style=\"vertical-align: middle; margin-left: 2px; font-size: 0.7em; color: #64b5f6;\">PERSON</span></span> Manager</div>"
      ],
      "text/plain": [
       "<IPython.core.display.HTML object>"
      ]
     },
     "metadata": {},
     "output_type": "display_data"
    },
    {
     "name": "stdout",
     "output_type": "stream",
     "text": [
      "\n"
     ]
    },
    {
     "data": {
      "text/html": [
       "<div class=\"tex2jax_ignore\" style=\"white-space: pre-wrap\">Room was much larger than I expected, and water and <span style=\"padding: 2px; border-radius: 4px; border: 1px solid #ffcdd2; background: #ffebee\">fridge<span style=\"vertical-align: middle; margin-left: 2px; font-size: 0.7em; color: #e57373;\">PRODUCT</span></span> were offered for my <span style=\"padding: 2px; border-radius: 4px; border: 1px solid #d7ccc8; background: #efebe9\">room<span style=\"vertical-align: middle; margin-left: 2px; font-size: 0.7em; color: #a1887f;\">LOCATION</span></span> - had everything I needed. Nice basic breakfast was included. Room was very clean and everyone here was friendly! Would stay again. We&#x27;re thrilled to hear you had a great <span style=\"padding: 2px; border-radius: 4px; border: 1px solid #d7ccc8; background: #efebe9\">New Orleans<span style=\"vertical-align: middle; margin-left: 2px; font-size: 0.7em; color: #a1887f;\">LOCATION</span></span> experience at the <span style=\"padding: 2px; border-radius: 4px; border: 1px solid #d7ccc8; background: #efebe9\">Whitney Hotel<span style=\"vertical-align: middle; margin-left: 2px; font-size: 0.7em; color: #a1887f;\">LOCATION</span></span>. Thank you for mentioning the breakfast and the cleanliness of the rooms. Our staff strives for excellence and I&#x27;m glad to see that was provided. We hope to see you again soon. Sincerely, <span style=\"padding: 2px; border-radius: 4px; border: 1px solid #bbdefb; background: #e3f2fd\">Casey A. CallaisGeneral<span style=\"vertical-align: middle; margin-left: 2px; font-size: 0.7em; color: #64b5f6;\">PERSON</span></span> Manager</div>"
      ],
      "text/plain": [
       "<IPython.core.display.HTML object>"
      ]
     },
     "metadata": {},
     "output_type": "display_data"
    },
    {
     "name": "stdout",
     "output_type": "stream",
     "text": [
      "\n"
     ]
    }
   ],
   "source": [
    "#View the sentences with the detected Named Entites.\n",
    "no_of_sentences = 5\n",
    "DataTemp=Data\n",
    "for res in range(no_of_sentences):\n",
    "    spans=[]\n",
    "    show_sen=False\n",
    "    for i in Data.iloc[res,Data.columns.get_loc(\"Entities\")]: \n",
    "        spans += [(i.offset, i.offset+i.length, i.type)]\n",
    "    show_box_markup(Data.Reviews[res], spans)\n",
    "    print()"
   ]
  },
  {
   "cell_type": "markdown",
   "id": "b600a183",
   "metadata": {},
   "source": [
    "## Analyze on the results"
   ]
  },
  {
   "cell_type": "code",
   "execution_count": 62,
   "id": "02e973e7",
   "metadata": {},
   "outputs": [],
   "source": [
    "# build out a data frame of all the named entities and their types\n",
    "no_of_sentences = len(result)\n",
    "# no_of_sentences = 1\n",
    "named_entities=[]\n",
    "for res in range(no_of_sentences):\n",
    "    spans=[]\n",
    "    for i in result[res].entities:\n",
    "        temp_named_entity = (i.text, i.type)\n",
    "        named_entities.append(temp_named_entity)\n",
    "entity_frame = pd.DataFrame(named_entities, \n",
    "                            columns=['Entity Name', 'Entity Type'])"
   ]
  },
  {
   "cell_type": "code",
   "execution_count": 63,
   "id": "1778dbd5",
   "metadata": {},
   "outputs": [],
   "source": [
    "# transform and aggregate the data frame to find the top occuring entities and types.\n",
    "top_entities = (entity_frame.groupby(by=['Entity Name', 'Entity Type'])\n",
    "                           .size()\n",
    "                           .sort_values(ascending=False)\n",
    "                           .reset_index().rename(columns={0 : 'Frequency'}))"
   ]
  },
  {
   "cell_type": "code",
   "execution_count": 64,
   "id": "2d3b6aad",
   "metadata": {},
   "outputs": [
    {
     "data": {
      "text/html": [
       "<div>\n",
       "<style scoped>\n",
       "    .dataframe tbody tr th:only-of-type {\n",
       "        vertical-align: middle;\n",
       "    }\n",
       "\n",
       "    .dataframe tbody tr th {\n",
       "        vertical-align: top;\n",
       "    }\n",
       "\n",
       "    .dataframe thead th {\n",
       "        text-align: right;\n",
       "    }\n",
       "</style>\n",
       "<table border=\"1\" class=\"dataframe\">\n",
       "  <thead>\n",
       "    <tr style=\"text-align: right;\">\n",
       "      <th></th>\n",
       "      <th>Entity Name</th>\n",
       "      <th>Entity Type</th>\n",
       "      <th>Frequency</th>\n",
       "    </tr>\n",
       "  </thead>\n",
       "  <tbody>\n",
       "    <tr>\n",
       "      <th>0</th>\n",
       "      <td>New Orleans</td>\n",
       "      <td>GPE</td>\n",
       "      <td>42</td>\n",
       "    </tr>\n",
       "    <tr>\n",
       "      <th>1</th>\n",
       "      <td>Whitney Hotel</td>\n",
       "      <td>FAC</td>\n",
       "      <td>37</td>\n",
       "    </tr>\n",
       "    <tr>\n",
       "      <th>2</th>\n",
       "      <td>room</td>\n",
       "      <td>FAC</td>\n",
       "      <td>31</td>\n",
       "    </tr>\n",
       "    <tr>\n",
       "      <th>3</th>\n",
       "      <td>Casey A. CallaisGeneral</td>\n",
       "      <td>PERSON</td>\n",
       "      <td>29</td>\n",
       "    </tr>\n",
       "    <tr>\n",
       "      <th>4</th>\n",
       "      <td>restaurant</td>\n",
       "      <td>FAC</td>\n",
       "      <td>22</td>\n",
       "    </tr>\n",
       "    <tr>\n",
       "      <th>5</th>\n",
       "      <td>San Diego</td>\n",
       "      <td>GPE</td>\n",
       "      <td>17</td>\n",
       "    </tr>\n",
       "    <tr>\n",
       "      <th>6</th>\n",
       "      <td>one</td>\n",
       "      <td>CARDINAL</td>\n",
       "      <td>13</td>\n",
       "    </tr>\n",
       "    <tr>\n",
       "      <th>7</th>\n",
       "      <td>two</td>\n",
       "      <td>CARDINAL</td>\n",
       "      <td>11</td>\n",
       "    </tr>\n",
       "    <tr>\n",
       "      <th>8</th>\n",
       "      <td>Hotel</td>\n",
       "      <td>FAC</td>\n",
       "      <td>10</td>\n",
       "    </tr>\n",
       "    <tr>\n",
       "      <th>9</th>\n",
       "      <td>night</td>\n",
       "      <td>TIME</td>\n",
       "      <td>9</td>\n",
       "    </tr>\n",
       "    <tr>\n",
       "      <th>10</th>\n",
       "      <td>bit</td>\n",
       "      <td>QUANTITY</td>\n",
       "      <td>7</td>\n",
       "    </tr>\n",
       "    <tr>\n",
       "      <th>11</th>\n",
       "      <td>bathroom</td>\n",
       "      <td>FAC</td>\n",
       "      <td>6</td>\n",
       "    </tr>\n",
       "    <tr>\n",
       "      <th>12</th>\n",
       "      <td>beds</td>\n",
       "      <td>PRODUCT</td>\n",
       "      <td>6</td>\n",
       "    </tr>\n",
       "    <tr>\n",
       "      <th>13</th>\n",
       "      <td>Best Western Seven Seas</td>\n",
       "      <td>PRODUCT</td>\n",
       "      <td>6</td>\n",
       "    </tr>\n",
       "    <tr>\n",
       "      <th>14</th>\n",
       "      <td>Whitney</td>\n",
       "      <td>FAC</td>\n",
       "      <td>6</td>\n",
       "    </tr>\n",
       "  </tbody>\n",
       "</table>\n",
       "</div>"
      ],
      "text/plain": [
       "                Entity Name Entity Type  Frequency\n",
       "0               New Orleans         GPE         42\n",
       "1             Whitney Hotel         FAC         37\n",
       "2                      room         FAC         31\n",
       "3   Casey A. CallaisGeneral      PERSON         29\n",
       "4                restaurant         FAC         22\n",
       "5                 San Diego         GPE         17\n",
       "6                       one    CARDINAL         13\n",
       "7                       two    CARDINAL         11\n",
       "8                     Hotel         FAC         10\n",
       "9                     night        TIME          9\n",
       "10                      bit    QUANTITY          7\n",
       "11                 bathroom         FAC          6\n",
       "12                     beds     PRODUCT          6\n",
       "13  Best Western Seven Seas     PRODUCT          6\n",
       "14                  Whitney         FAC          6"
      ]
     },
     "execution_count": 64,
     "metadata": {},
     "output_type": "execute_result"
    }
   ],
   "source": [
    "no_of_top_entities=15\n",
    "top_entities.iloc[:no_of_top_entities,:]"
   ]
  },
  {
   "cell_type": "code",
   "execution_count": 65,
   "id": "293111e9",
   "metadata": {},
   "outputs": [],
   "source": [
    "# transform and aggregate the data frame to find the top occuring entities types.\n",
    "top_entities = (entity_frame.groupby(by=['Entity Type'])\n",
    "                           .size()\n",
    "                           .sort_values(ascending=False)\n",
    "                           .reset_index().rename(columns={0 : 'Frequency'}))"
   ]
  },
  {
   "cell_type": "code",
   "execution_count": 66,
   "id": "bc4dda70",
   "metadata": {},
   "outputs": [
    {
     "data": {
      "text/html": [
       "<div>\n",
       "<style scoped>\n",
       "    .dataframe tbody tr th:only-of-type {\n",
       "        vertical-align: middle;\n",
       "    }\n",
       "\n",
       "    .dataframe tbody tr th {\n",
       "        vertical-align: top;\n",
       "    }\n",
       "\n",
       "    .dataframe thead th {\n",
       "        text-align: right;\n",
       "    }\n",
       "</style>\n",
       "<table border=\"1\" class=\"dataframe\">\n",
       "  <thead>\n",
       "    <tr style=\"text-align: right;\">\n",
       "      <th></th>\n",
       "      <th>Entity Type</th>\n",
       "      <th>Frequency</th>\n",
       "    </tr>\n",
       "  </thead>\n",
       "  <tbody>\n",
       "    <tr>\n",
       "      <th>0</th>\n",
       "      <td>FAC</td>\n",
       "      <td>179</td>\n",
       "    </tr>\n",
       "    <tr>\n",
       "      <th>1</th>\n",
       "      <td>PRODUCT</td>\n",
       "      <td>123</td>\n",
       "    </tr>\n",
       "    <tr>\n",
       "      <th>2</th>\n",
       "      <td>GPE</td>\n",
       "      <td>77</td>\n",
       "    </tr>\n",
       "    <tr>\n",
       "      <th>3</th>\n",
       "      <td>CARDINAL</td>\n",
       "      <td>57</td>\n",
       "    </tr>\n",
       "    <tr>\n",
       "      <th>4</th>\n",
       "      <td>TIME</td>\n",
       "      <td>50</td>\n",
       "    </tr>\n",
       "    <tr>\n",
       "      <th>5</th>\n",
       "      <td>PERSON</td>\n",
       "      <td>49</td>\n",
       "    </tr>\n",
       "    <tr>\n",
       "      <th>6</th>\n",
       "      <td>DATE</td>\n",
       "      <td>41</td>\n",
       "    </tr>\n",
       "    <tr>\n",
       "      <th>7</th>\n",
       "      <td>ORG</td>\n",
       "      <td>36</td>\n",
       "    </tr>\n",
       "    <tr>\n",
       "      <th>8</th>\n",
       "      <td>EVENT</td>\n",
       "      <td>25</td>\n",
       "    </tr>\n",
       "    <tr>\n",
       "      <th>9</th>\n",
       "      <td>LOCATION</td>\n",
       "      <td>20</td>\n",
       "    </tr>\n",
       "    <tr>\n",
       "      <th>10</th>\n",
       "      <td>QUANTITY</td>\n",
       "      <td>11</td>\n",
       "    </tr>\n",
       "    <tr>\n",
       "      <th>11</th>\n",
       "      <td>URL</td>\n",
       "      <td>6</td>\n",
       "    </tr>\n",
       "    <tr>\n",
       "      <th>12</th>\n",
       "      <td>PHONE_NUMBER</td>\n",
       "      <td>2</td>\n",
       "    </tr>\n",
       "    <tr>\n",
       "      <th>13</th>\n",
       "      <td>MONEY</td>\n",
       "      <td>2</td>\n",
       "    </tr>\n",
       "  </tbody>\n",
       "</table>\n",
       "</div>"
      ],
      "text/plain": [
       "     Entity Type  Frequency\n",
       "0            FAC        179\n",
       "1        PRODUCT        123\n",
       "2            GPE         77\n",
       "3       CARDINAL         57\n",
       "4           TIME         50\n",
       "5         PERSON         49\n",
       "6           DATE         41\n",
       "7            ORG         36\n",
       "8          EVENT         25\n",
       "9       LOCATION         20\n",
       "10      QUANTITY         11\n",
       "11           URL          6\n",
       "12  PHONE_NUMBER          2\n",
       "13         MONEY          2"
      ]
     },
     "execution_count": 66,
     "metadata": {},
     "output_type": "execute_result"
    }
   ],
   "source": [
    "no_of_top_entities = top_entities['Entity Type'].size\n",
    "top_entities.iloc[:no_of_top_entities,:]"
   ]
  },
  {
   "cell_type": "code",
   "execution_count": 67,
   "id": "3db50d5b",
   "metadata": {},
   "outputs": [
    {
     "data": {
      "image/png": "[encoded data removed]",
      "text/plain": [
       "<Figure size 1080x504 with 1 Axes>"
      ]
     },
     "metadata": {
      "needs_background": "light"
     },
     "output_type": "display_data"
    }
   ],
   "source": [
    "# Horizontal Bar Plot\n",
    "fig = plt.figure(figsize =(15, 7))\n",
    "plt.bar(top_entities['Entity Type'], top_entities['Frequency'])\n",
    "# Show Plot\n",
    "plt.show()"
   ]
  }
 ],
 "metadata": {
  "kernelspec": {
   "display_name": "Python 3",
   "language": "python",
   "name": "python3"
  },
  "language_info": {
   "codemirror_mode": {
    "name": "ipython",
    "version": 3
   },
   "file_extension": ".py",
   "mimetype": "text/x-python",
   "name": "python",
   "nbconvert_exporter": "python",
   "pygments_lexer": "ipython3",
   "version": "3.6.10"
  }
 },
 "nbformat": 4,
 "nbformat_minor": 5
}
